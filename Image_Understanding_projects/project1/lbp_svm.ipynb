{
 "cells": [
  {
   "cell_type": "code",
   "execution_count": 4,
   "metadata": {
    "collapsed": false
   },
   "outputs": [
    {
     "name": "stdout",
     "output_type": "stream",
     "text": [
      "(50000, 236)\n",
      "(50000, 1)\n",
      "(10000, 236)\n",
      "(10000, 1)\n"
     ]
    }
   ],
   "source": [
    "import scipy.io\n",
    "import numpy as np\n",
    "count = 236\n",
    "mat = scipy.io.loadmat('/home/lwt1104/Downloads/cifar-10-batches-mat/training_test_16.mat')\n",
    "x_training = np.zeros([50000, count])\n",
    "y_training = np.zeros([50000, 1])\n",
    "x_test = np.zeros([10000, count])\n",
    "y_test = np.zeros([10000, 1])\n",
    "\n",
    "x_training = mat['x_training']\n",
    "y_training = mat['y_training']\n",
    "x_test = mat['x_test']\n",
    "y_test = mat['y_test']\n",
    "\n",
    "print x_training.shape\n",
    "print y_training.shape\n",
    "print x_test.shape\n",
    "print y_test.shape"
   ]
  },
  {
   "cell_type": "code",
   "execution_count": 5,
   "metadata": {
    "collapsed": false,
    "scrolled": true
   },
   "outputs": [
    {
     "name": "stderr",
     "output_type": "stream",
     "text": [
      "/usr/local/lib/python2.7/dist-packages/sklearn/utils/validation.py:526: DataConversionWarning: A column-vector y was passed when a 1d array was expected. Please change the shape of y to (n_samples, ), for example using ravel().\n",
      "  y = column_or_1d(y, warn=True)\n"
     ]
    }
   ],
   "source": [
    "from sklearn import svm\n",
    "\n",
    "clf = svm.SVC()\n",
    "clf.fit(x_training, y_training)\n",
    "y_pred_train = clf.predict(x_training)\n",
    "y_pred_test = clf.predict(x_test)\n"
   ]
  },
  {
   "cell_type": "code",
   "execution_count": null,
   "metadata": {
    "collapsed": true
   },
   "outputs": [],
   "source": []
  },
  {
   "cell_type": "code",
   "execution_count": 9,
   "metadata": {
    "collapsed": false
   },
   "outputs": [
    {
     "name": "stdout",
     "output_type": "stream",
     "text": [
      "43.08\n"
     ]
    }
   ],
   "source": [
    "from svmutil import *\n",
    "ACC, MSE, SCC = evaluations(y_test, y_pred_test)\n",
    "print ACC\n"
   ]
  }
 ],
 "metadata": {
  "kernelspec": {
   "display_name": "Python 2",
   "language": "python",
   "name": "python2"
  },
  "language_info": {
   "codemirror_mode": {
    "name": "ipython",
    "version": 2
   },
   "file_extension": ".py",
   "mimetype": "text/x-python",
   "name": "python",
   "nbconvert_exporter": "python",
   "pygments_lexer": "ipython2",
   "version": "2.7.6"
  }
 },
 "nbformat": 4,
 "nbformat_minor": 1
}
